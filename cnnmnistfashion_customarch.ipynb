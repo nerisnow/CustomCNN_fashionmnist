{
  "nbformat": 4,
  "nbformat_minor": 0,
  "metadata": {
    "kernelspec": {
      "name": "python3",
      "display_name": "Python 3"
    },
    "colab": {
      "name": "cnnmnistfashion-customarch.ipynb",
      "provenance": [],
      "collapsed_sections": [],
      "toc_visible": true
    },
    "accelerator": "GPU"
  },
  "cells": [
    {
      "cell_type": "code",
      "metadata": {
        "id": "V_Vxc-6UbnoH",
        "colab_type": "code",
        "colab": {}
      },
      "source": [
        "%tensorflow_version 2.x"
      ],
      "execution_count": 0,
      "outputs": []
    },
    {
      "cell_type": "code",
      "metadata": {
        "id": "MPXscYyRbk0Y",
        "colab_type": "code",
        "colab": {}
      },
      "source": [
        "import tensorflow as tf\n",
        "import numpy as np\n",
        "from datetime import datetime\n",
        "import matplotlib.pyplot as plt\n",
        "import os\n",
        "import tensorflow_datasets as tfds"
      ],
      "execution_count": 0,
      "outputs": []
    },
    {
      "cell_type": "code",
      "metadata": {
        "id": "pFVyE22hbk0e",
        "colab_type": "code",
        "colab": {}
      },
      "source": [
        "dataset, info = tfds.load('fashion_mnist', as_supervised=True, split = ('train[:60%]', 'train[60%:]', 'test'),\n",
        "        # tfds.Split.TRAIN.subsplit(tfds.percent[:80]),\n",
        "        # tfds.Split.TRAIN.subsplit(tfds.percent[80:90]),\n",
        "        # tfds.Split.TRAIN.subsplit(tfds.percent[90:]),\n",
        "    with_info = True)"
      ],
      "execution_count": 0,
      "outputs": []
    },
    {
      "cell_type": "code",
      "metadata": {
        "id": "JVX4XSsPbk0j",
        "colab_type": "code",
        "outputId": "840a1d02-020d-4d74-f5df-c4ac966c83df",
        "colab": {
          "base_uri": "https://localhost:8080/",
          "height": 68
        }
      },
      "source": [
        "dataset"
      ],
      "execution_count": 57,
      "outputs": [
        {
          "output_type": "execute_result",
          "data": {
            "text/plain": [
              "(<DatasetV1Adapter shapes: ((28, 28, 1), ()), types: (tf.uint8, tf.int64)>,\n",
              " <DatasetV1Adapter shapes: ((28, 28, 1), ()), types: (tf.uint8, tf.int64)>,\n",
              " <DatasetV1Adapter shapes: ((28, 28, 1), ()), types: (tf.uint8, tf.int64)>)"
            ]
          },
          "metadata": {
            "tags": []
          },
          "execution_count": 57
        }
      ]
    },
    {
      "cell_type": "code",
      "metadata": {
        "id": "t346SID-bk0o",
        "colab_type": "code",
        "colab": {}
      },
      "source": [
        "train_dataset = dataset[0]\n",
        "test_dataset = dataset[2]\n",
        "valid_dataset = dataset[1]"
      ],
      "execution_count": 0,
      "outputs": []
    },
    {
      "cell_type": "code",
      "metadata": {
        "id": "-KW0mIP5bk0t",
        "colab_type": "code",
        "outputId": "1d0aa1ba-4575-4b06-8e98-3bf18b11b7f2",
        "colab": {
          "base_uri": "https://localhost:8080/",
          "height": 85
        }
      },
      "source": [
        "for image,label in valid_dataset.batch(16).take(2):\n",
        "    print(type(image))\n",
        "    print(type(label))"
      ],
      "execution_count": 59,
      "outputs": [
        {
          "output_type": "stream",
          "text": [
            "<class 'tensorflow.python.framework.ops.EagerTensor'>\n",
            "<class 'tensorflow.python.framework.ops.EagerTensor'>\n",
            "<class 'tensorflow.python.framework.ops.EagerTensor'>\n",
            "<class 'tensorflow.python.framework.ops.EagerTensor'>\n"
          ],
          "name": "stdout"
        }
      ]
    },
    {
      "cell_type": "code",
      "metadata": {
        "id": "WACWv5wObk0y",
        "colab_type": "code",
        "outputId": "f7c90572-e29b-4e95-c8d2-0ddd1fa55674",
        "colab": {
          "base_uri": "https://localhost:8080/",
          "height": 598
        }
      },
      "source": [
        "info"
      ],
      "execution_count": 60,
      "outputs": [
        {
          "output_type": "execute_result",
          "data": {
            "text/plain": [
              "tfds.core.DatasetInfo(\n",
              "    name='fashion_mnist',\n",
              "    version=3.0.0,\n",
              "    description='Fashion-MNIST is a dataset of Zalando's article images consisting of a training set of 60,000 examples and a test set of 10,000 examples. Each example is a 28x28 grayscale image, associated with a label from 10 classes.',\n",
              "    homepage='https://github.com/zalandoresearch/fashion-mnist',\n",
              "    features=FeaturesDict({\n",
              "        'image': Image(shape=(28, 28, 1), dtype=tf.uint8),\n",
              "        'label': ClassLabel(shape=(), dtype=tf.int64, num_classes=10),\n",
              "    }),\n",
              "    total_num_examples=70000,\n",
              "    splits={\n",
              "        'test': 10000,\n",
              "        'train': 60000,\n",
              "    },\n",
              "    supervised_keys=('image', 'label'),\n",
              "    citation=\"\"\"@article{DBLP:journals/corr/abs-1708-07747,\n",
              "      author    = {Han Xiao and\n",
              "                   Kashif Rasul and\n",
              "                   Roland Vollgraf},\n",
              "      title     = {Fashion-MNIST: a Novel Image Dataset for Benchmarking Machine Learning\n",
              "                   Algorithms},\n",
              "      journal   = {CoRR},\n",
              "      volume    = {abs/1708.07747},\n",
              "      year      = {2017},\n",
              "      url       = {http://arxiv.org/abs/1708.07747},\n",
              "      archivePrefix = {arXiv},\n",
              "      eprint    = {1708.07747},\n",
              "      timestamp = {Mon, 13 Aug 2018 16:47:27 +0200},\n",
              "      biburl    = {https://dblp.org/rec/bib/journals/corr/abs-1708-07747},\n",
              "      bibsource = {dblp computer science bibliography, https://dblp.org}\n",
              "    }\"\"\",\n",
              "    redistribution_info=,\n",
              ")"
            ]
          },
          "metadata": {
            "tags": []
          },
          "execution_count": 60
        }
      ]
    },
    {
      "cell_type": "code",
      "metadata": {
        "id": "UeESWcqybk02",
        "colab_type": "code",
        "colab": {}
      },
      "source": [
        "def preprocess(image,label):\n",
        "    #to grayscale\n",
        "    image = tf.dtypes.cast(image, tf.float32)\n",
        "    label = tf.dtypes.cast(label, tf.float32)\n",
        "    \n",
        "    #resize\n",
        "    image = tf.image.per_image_standardization(image)\n",
        "    \n",
        "    return image,label"
      ],
      "execution_count": 0,
      "outputs": []
    },
    {
      "cell_type": "code",
      "metadata": {
        "id": "e4q3AfG9bk07",
        "colab_type": "code",
        "colab": {}
      },
      "source": [
        "train_dataset = train_dataset.map(preprocess)\n",
        "test_dataset = test_dataset.map(preprocess)\n",
        "valid_dataset = valid_dataset.map(preprocess)"
      ],
      "execution_count": 0,
      "outputs": []
    },
    {
      "cell_type": "code",
      "metadata": {
        "id": "JaGSUkp0bk0_",
        "colab_type": "code",
        "colab": {}
      },
      "source": [
        "class CustomNet(tf.keras.Model):\n",
        "    def __init__(self):\n",
        "        super(CustomNet, self).__init__()\n",
        "        initializer = tf.initializers.GlorotUniform(seed=48)\n",
        "        # Conv1\n",
        "        self.wc1 = tf.Variable(initializer([3, 3, 1, 32]), trainable=True, name='wc1')\n",
        "        \n",
        "        # Conv2\n",
        "        self.wc2 = tf.Variable(initializer([3, 3, 32, 64]), trainable=True, name='wc2')\n",
        "        \n",
        "         # Conv3\n",
        "        self.wc3 = tf.Variable(initializer([3, 3, 64, 128]), trainable=True, name='wc2')\n",
        "        \n",
        "        # Flatten\n",
        "        \n",
        "        # Dense\n",
        "        self.wd4 = tf.Variable(initializer([15488, 128]), trainable=True)    \n",
        "        \n",
        "        # Dense\n",
        "        self.wd5 = tf.Variable(initializer([128, 10]), trainable=True)    \n",
        "        \n",
        "        self.bc1 = tf.Variable(tf.zeros([32]), dtype=tf.float32, trainable=True)\n",
        "        self.bc2 = tf.Variable(tf.zeros([64]), dtype=tf.float32, trainable=True)\n",
        "        self.bc3 = tf.Variable(tf.zeros([128]), dtype=tf.float32, trainable=True)     \n",
        "        self.bd4 = tf.Variable(tf.zeros([128]), dtype=tf.float32, trainable=True)   \n",
        "        self.bd5 = tf.Variable(tf.zeros([10]), dtype=tf.float32, trainable=True)   \n",
        "    \n",
        "    def call(self, x):\n",
        "        # X = NHWC \n",
        "        # Conv1 + maxpool 2\n",
        "        x = tf.nn.conv2d(x, self.wc1, strides=[1, 1, 1, 1], padding=\"VALID\")\n",
        "        x = tf.nn.bias_add(x, self.bc1)\n",
        "        x = tf.nn.relu(x)\n",
        "#         x = tf.nn.max_pool(x, ksize=[1, 2, 2, 1], strides=[1, 2, 2, 1], padding=\"VALID\")\n",
        "        \n",
        "        # Conv2 + maxpool 2\n",
        "        x = tf.nn.conv2d(x, self.wc2, strides=[1, 1, 1, 1], padding=\"VALID\")\n",
        "        x = tf.nn.bias_add(x, self.bc2)\n",
        "        x = tf.nn.relu(x)\n",
        "#         x = tf.nn.max_pool(x, ksize=[1, 2, 2, 1], strides=[1, 2, 2, 1], padding=\"VALID\")\n",
        "        \n",
        "         # Conv3 + maxpool 3\n",
        "        x = tf.nn.conv2d(x, self.wc3, strides=[1, 1, 1, 1], padding=\"VALID\")\n",
        "        x = tf.nn.bias_add(x, self.bc3)\n",
        "        x = tf.nn.relu(x)\n",
        "        x = tf.nn.max_pool(x, ksize=[1, 2, 2, 1], strides=[1, 2, 2, 1], padding=\"VALID\")\n",
        "        \n",
        "        # Flattten out\n",
        "        # N X Number of Nodes\n",
        "        # Flatten()\n",
        "        x = tf.reshape(x, (tf.shape(x)[0], -1))\n",
        "        \n",
        "        # Dense1\n",
        "        x = tf.matmul(x, self.wd4)\n",
        "        x = tf.nn.bias_add(x, self.bd4)\n",
        "        x = tf.nn.relu(x)\n",
        "\n",
        "        \n",
        "        # Dense2\n",
        "        x = tf.matmul(x, self.wd5)\n",
        "        x = tf.nn.bias_add(x, self.bd5)\n",
        "        x = tf.nn.sigmoid(x)\n",
        "        \n",
        "        return x"
      ],
      "execution_count": 0,
      "outputs": []
    },
    {
      "cell_type": "code",
      "metadata": {
        "id": "AB9PSgr5bk1D",
        "colab_type": "code",
        "colab": {}
      },
      "source": [
        "model = CustomNet()"
      ],
      "execution_count": 0,
      "outputs": []
    },
    {
      "cell_type": "code",
      "metadata": {
        "id": "WNaef6cqbk1H",
        "colab_type": "code",
        "colab": {}
      },
      "source": [
        "ce_loss = tf.losses.SparseCategoricalCrossentropy(from_logits=True)"
      ],
      "execution_count": 0,
      "outputs": []
    },
    {
      "cell_type": "code",
      "metadata": {
        "id": "S8arZPGPbk1N",
        "colab_type": "code",
        "colab": {}
      },
      "source": [
        "LEARNING_RATE = 0.0001\n",
        "EPOCHS = 3\n",
        "BATCH_SIZE = 16"
      ],
      "execution_count": 0,
      "outputs": []
    },
    {
      "cell_type": "code",
      "metadata": {
        "id": "NpGJPrHubk1V",
        "colab_type": "code",
        "colab": {}
      },
      "source": [
        "optimizer = tf.optimizers.Adam(learning_rate= LEARNING_RATE)"
      ],
      "execution_count": 0,
      "outputs": []
    },
    {
      "cell_type": "code",
      "metadata": {
        "id": "YhTkp2K_bk1a",
        "colab_type": "code",
        "colab": {}
      },
      "source": [
        "def train_step(model, inputs, labels, loss_fn, optimzer):\n",
        "    with tf.GradientTape() as t:\n",
        "        y_predicted = model(inputs, training=True)\n",
        "        current_loss = loss_fn(labels, y_predicted)\n",
        "        \n",
        "        gradients = t.gradient(current_loss, model.trainable_variables)\n",
        "        optimizer.apply_gradients(zip(gradients, model.trainable_variables))\n",
        "        \n",
        "    return current_loss"
      ],
      "execution_count": 0,
      "outputs": []
    },
    {
      "cell_type": "code",
      "metadata": {
        "id": "rQcvg_Z2bk1g",
        "colab_type": "code",
        "colab": {}
      },
      "source": [
        "def valid_step(model, inputs, labels, loss_fn):\n",
        "    y_predicted = model(inputs, training=False)\n",
        "    current_loss = loss_fn(labels, y_predicted)\n",
        "    return current_loss"
      ],
      "execution_count": 0,
      "outputs": []
    },
    {
      "cell_type": "code",
      "metadata": {
        "id": "Wp1dvzppbk1k",
        "colab_type": "code",
        "colab": {}
      },
      "source": [
        "train_dataset = train_dataset.batch(BATCH_SIZE)\n",
        "valid_dataset = valid_dataset.batch(BATCH_SIZE)"
      ],
      "execution_count": 0,
      "outputs": []
    },
    {
      "cell_type": "code",
      "metadata": {
        "id": "HNd2tvDnbk1n",
        "colab_type": "code",
        "colab": {}
      },
      "source": [
        "losses = tf.keras.metrics.Mean(name='loss')\n",
        "val_losses = tf.keras.metrics.Mean(name='val_loss')"
      ],
      "execution_count": 0,
      "outputs": []
    },
    {
      "cell_type": "code",
      "metadata": {
        "id": "JsqQRPMZbk1p",
        "colab_type": "code",
        "colab": {}
      },
      "source": [
        "current_time = datetime.now().strftime(\"%Y%m%d-%H%M%S\")\n",
        "train_log_dir = f'./temp/traincustom/{current_time}/logs'\n",
        "file_writer = tf.summary.create_file_writer(train_log_dir)"
      ],
      "execution_count": 0,
      "outputs": []
    },
    {
      "cell_type": "code",
      "metadata": {
        "id": "JJ8VUPqbbk1u",
        "colab_type": "code",
        "colab": {}
      },
      "source": [
        "# Checkpoint\n",
        "# callbacks = [tf.keras.Checkpoint(...)]\n",
        "checkpoint_dir = f'./temp/traincustom/checkpoints/'"
      ],
      "execution_count": 0,
      "outputs": []
    },
    {
      "cell_type": "code",
      "metadata": {
        "id": "qeINrQTrbk1x",
        "colab_type": "code",
        "colab": {}
      },
      "source": [
        "ckpt = tf.train.Checkpoint(step = tf.Variable(1), optimizer=optimizer, net=model)\n",
        "manager = tf.train.CheckpointManager(ckpt, checkpoint_dir, max_to_keep=3)"
      ],
      "execution_count": 0,
      "outputs": []
    },
    {
      "cell_type": "code",
      "metadata": {
        "id": "DMOB06j2bk10",
        "colab_type": "code",
        "colab": {}
      },
      "source": [
        "def check_for_checkpoint(manager):\n",
        "    ckpt.restore(manager.latest_checkpoint)\n",
        "    if manager.latest_checkpoint:\n",
        "        print(f\"restored from {manager.latest_checkpoint}\")\n",
        "    else:\n",
        "        print(\"Initializing from scratch\")"
      ],
      "execution_count": 0,
      "outputs": []
    },
    {
      "cell_type": "code",
      "metadata": {
        "id": "IP_hlbclbk14",
        "colab_type": "code",
        "outputId": "4b644a2d-dbcd-4c17-bb92-31a468560e8b",
        "colab": {
          "base_uri": "https://localhost:8080/",
          "height": 34
        }
      },
      "source": [
        "check_for_checkpoint(manager)\n"
      ],
      "execution_count": 76,
      "outputs": [
        {
          "output_type": "stream",
          "text": [
            "restored from ./temp/traincustom/checkpoints/ckpt-10\n"
          ],
          "name": "stdout"
        }
      ]
    },
    {
      "cell_type": "code",
      "metadata": {
        "id": "MIsx42Udbk17",
        "colab_type": "code",
        "outputId": "bb36a0b4-c3d3-48d9-f8bb-b217991440de",
        "colab": {
          "base_uri": "https://localhost:8080/",
          "height": 136
        }
      },
      "source": [
        "for epoch in range(EPOCHS):\n",
        "\n",
        "    print(f'epoch: {epoch}')\n",
        "    losses.reset_states()\n",
        "    val_losses.reset_states()\n",
        "    for x_batch, y_batch in train_dataset:\n",
        "        #print(x_batch)\n",
        "        loss = train_step(model, x_batch, y_batch, ce_loss, optimizer)\n",
        "        losses(loss)\n",
        "#         step += 1\n",
        "    \n",
        "    save_path = manager.save()\n",
        "    print(\"Saved checkpoint for step {}: {}\".format(int(ckpt.step), save_path))\n",
        "    \n",
        "    ckpt.step.assign_add(1)\n",
        "    \n",
        "    with file_writer.as_default():\n",
        "        tf.summary.scalar('loss', losses.result(), step=epoch)\n",
        "        tf.summary.image('Input images', x_batch, step=epoch)\n",
        "\n",
        "    print(losses.result())\n",
        "        \n",
        "    for x_batch, y_batch in valid_dataset:\n",
        "        val_loss = valid_step(model, x_batch, y_batch, ce_loss)\n",
        "        val_losses(val_loss)\n",
        "    \n",
        "    with file_writer.as_default():\n",
        "        tf.summary.scalar('val_loss', val_losses.result(), step=epoch)"
      ],
      "execution_count": 77,
      "outputs": [
        {
          "output_type": "stream",
          "text": [
            "epoch: 0\n",
            "Saved checkpoint for step 7: ./temp/traincustom/checkpoints/ckpt-11\n",
            "tf.Tensor(1.5121229, shape=(), dtype=float32)\n",
            "epoch: 1\n",
            "Saved checkpoint for step 8: ./temp/traincustom/checkpoints/ckpt-12\n",
            "tf.Tensor(1.5087172, shape=(), dtype=float32)\n",
            "epoch: 2\n"
          ],
          "name": "stdout"
        }
      ]
    },
    {
      "cell_type": "code",
      "metadata": {
        "id": "W0RKRVcRbk1-",
        "colab_type": "code",
        "colab": {}
      },
      "source": [
        "def predict(inputs):\n",
        "    predicted = model(inputs)\n",
        "    return tf.nn.softmax(predicted)"
      ],
      "execution_count": 0,
      "outputs": []
    },
    {
      "cell_type": "code",
      "metadata": {
        "id": "ib6HS_3qbk2B",
        "colab_type": "code",
        "outputId": "dc028d56-7108-43c1-cb1c-435fb363e49c",
        "colab": {
          "base_uri": "https://localhost:8080/",
          "height": 105
        }
      },
      "source": [
        "for sample, label in test_dataset.batch(16).take(4):\n",
        "    predictions = predict(sample)\n",
        "    print(tf.argmax(predictions,axis=1), label)\n",
        "    #print(predictions)"
      ],
      "execution_count": 82,
      "outputs": [
        {
          "output_type": "stream",
          "text": [
            "tf.Tensor([4 4 9 7 5 1 0 5 7 4 0 8 2 3 9 0], shape=(16,), dtype=int64) tf.Tensor([4. 4. 9. 7. 5. 1. 0. 5. 7. 4. 0. 8. 2. 3. 9. 0.], shape=(16,), dtype=float32)\n",
            "tf.Tensor([7 7 2 2 0 4 4 2 0 7 7 4 2 2 7 5], shape=(16,), dtype=int64) tf.Tensor([7. 7. 2. 2. 0. 4. 4. 4. 2. 7. 7. 4. 2. 4. 7. 5.], shape=(16,), dtype=float32)\n",
            "tf.Tensor([9 5 4 4 3 3 1 7 5 3 0 0 0 6 9 9], shape=(16,), dtype=int64) tf.Tensor([9. 5. 4. 4. 3. 3. 1. 7. 5. 3. 0. 0. 0. 6. 9. 9.], shape=(16,), dtype=float32)\n",
            "tf.Tensor([7 6 2 0 0 9 6 1 5 7 0 2 1 9 7 2], shape=(16,), dtype=int64) tf.Tensor([7. 6. 2. 0. 0. 9. 6. 1. 5. 7. 0. 2. 1. 9. 7. 2.], shape=(16,), dtype=float32)\n"
          ],
          "name": "stdout"
        }
      ]
    },
    {
      "cell_type": "code",
      "metadata": {
        "id": "O9HxjMs-bk2F",
        "colab_type": "code",
        "colab": {}
      },
      "source": [
        "model_dir = f'./temp/traincustom/models/'\n",
        "weights_path = os.path.join(model_dir, 'weightsfashion.h5')"
      ],
      "execution_count": 0,
      "outputs": []
    },
    {
      "cell_type": "code",
      "metadata": {
        "id": "a-9AADbUbk2J",
        "colab_type": "code",
        "colab": {}
      },
      "source": [
        "model.save_weights(weights_path)"
      ],
      "execution_count": 0,
      "outputs": []
    },
    {
      "cell_type": "code",
      "metadata": {
        "id": "VGPCMuBGbk2O",
        "colab_type": "code",
        "colab": {}
      },
      "source": [
        ""
      ],
      "execution_count": 0,
      "outputs": []
    }
  ]
}